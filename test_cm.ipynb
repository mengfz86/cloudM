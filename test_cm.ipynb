{
 "cells": [
  {
   "cell_type": "code",
   "execution_count": 17,
   "metadata": {
    "collapsed": true,
    "pycharm": {
     "name": "#%%\n"
    }
   },
   "outputs": [],
   "source": [
    "#参考论文：[1] 马鸿耀, 王国胤, 张清华,等. 基于云模型的多粒度彩色图像分割[J]. 计算机工程, 2012, 38(20):184-187.\n",
    "#          [2] 秦昆, 王佩. 基于云变换的曲线拟合新方法[J]. 计算机工程与应用, 2008, 44(23):56-58.\n",
    "import matplotlib.pyplot as plt\n",
    "import numpy as np\n",
    "import math\n",
    "import random as rd"
   ]
  },
  {
   "cell_type": "code",
   "execution_count": 18,
   "metadata": {
    "collapsed": false,
    "pycharm": {
     "name": "#%%\n"
    }
   },
   "outputs": [],
   "source": [
    " #正向云发生器；二阶正向正态云发生器\n",
    "def FCG(Ex,En,He,n):\n",
    "    drops = np.zeros((n,2))\n",
    "    for i in range(n):\n",
    "        y_i = rd.gauss(En, He)\n",
    "        x_i = rd.gauss(Ex,y_i)\n",
    "        mu_xi = np.exp(-((x_i-Ex)**2/(2*(y_i**2))))\n",
    "        drops[i,0] = x_i\n",
    "        drops[i,1] = mu_xi\n",
    "\n",
    "    return drops"
   ]
  },
  {
   "cell_type": "code",
   "execution_count": 19,
   "metadata": {
    "collapsed": false,
    "pycharm": {
     "name": "#%%\n"
    }
   },
   "outputs": [],
   "source": [
    " #计算云中的期望EX,熵EN,超熵HE;\n",
    "#使用算法BCG1\n",
    "#X为样本点,逆向云发生器；即：把定量数据转换为定性数据\n",
    "#把样本数据转换为用数字特征表示的概念数据\n",
    "def BCG1(x):\n",
    "\n",
    "    #1.根据Xi计算这组数据的样本均值x_means\n",
    "    n = len(x)\n",
    "    x_sum = 0\n",
    "    for i in range(n):\n",
    "        x_sum +=x[i]\n",
    "    x_means = 1/n*x_sum\n",
    "\n",
    "    #1.1一阶样本中心矩cd1\n",
    "    cd1 = 0\n",
    "    for i in range(n):\n",
    "        cd1 +=abs(x[i]-x_means)\n",
    "    cd1 = 1/n*cd1\n",
    "\n",
    "    #1.2样本方差s2;\n",
    "    s2_ = 0\n",
    "    for i in range(n):\n",
    "        s2_ += (x[i] - x_means)**2\n",
    "    s2 = (1/(n-1))*s2_\n",
    "\n",
    "    #2.计算期望Ex;\n",
    "    Ex = x_means\n",
    "    #3.计算熵En;\n",
    "    En = np.sqrt(math.pi/2)*cd1\n",
    "    #4.计算超熵He\n",
    "    He = np.sqrt(abs(s2-En**2))\n",
    "\n",
    "    return Ex, En, He"
   ]
  },
  {
   "cell_type": "markdown",
   "metadata": {
    "collapsed": false,
    "pycharm": {
     "name": "#%% md\n"
    }
   },
   "source": [
    "'''\n",
    "    例：C(25,3,0.1)云粒\n",
    "        Ex = 25: 年轻人的期望年龄\n",
    "        En = 3和He = 0.1是对年轻人这一不确定性概念的不确定性度量\n",
    "    '''"
   ]
  },
  {
   "cell_type": "code",
   "execution_count": 20,
   "metadata": {
    "collapsed": false,
    "pycharm": {
     "name": "#%%\n"
    }
   },
   "outputs": [
    {
     "data": {
      "image/png": "[encoded data removed]",
      "text/plain": [
       "<Figure size 432x288 with 1 Axes>"
      ]
     },
     "metadata": {
      "needs_background": "light"
     },
     "output_type": "display_data"
    }
   ],
   "source": [
    "#1.生成云滴,正向操作：把一个25岁的青年认知算出定量值\n",
    "young = FCG(25,3,0.1,50000)\n",
    "plt.scatter(young[:,0],young[:,1],s=10)\n",
    "plt.xlabel(\"云滴Xi\")\n",
    "plt.ylabel(\"置信度Ui\")\n",
    "#2.把云滴变为定性概念\n",
    "plt.title(\"Ex:%F,En:%F,He:%F\"%BCG1(young[:,0]))\n",
    "plt.show()"
   ]
  },
  {
   "cell_type": "code",
   "execution_count": null,
   "metadata": {
    "collapsed": false,
    "pycharm": {
     "name": "#%%\n"
    }
   },
   "outputs": [],
   "source": []
  }
 ],
 "metadata": {
  "kernelspec": {
   "display_name": "Python 3",
   "language": "python",
   "name": "python3"
  },
  "language_info": {
   "codemirror_mode": {
    "name": "ipython",
    "version": 2
   },
   "file_extension": ".py",
   "mimetype": "text/x-python",
   "name": "python",
   "nbconvert_exporter": "python",
   "pygments_lexer": "ipython2",
   "version": "2.7.6"
  }
 },
 "nbformat": 4,
 "nbformat_minor": 0
}
